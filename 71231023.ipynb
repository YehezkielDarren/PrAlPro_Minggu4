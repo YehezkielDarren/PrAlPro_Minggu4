{
 "cells": [
  {
   "cell_type": "markdown",
   "metadata": {},
   "source": [
    "Soal 1"
   ]
  },
  {
   "cell_type": "code",
   "execution_count": 10,
   "metadata": {},
   "outputs": [
    {
     "name": "stdout",
     "output_type": "stream",
     "text": [
      "1 1 2 : False\n"
     ]
    }
   ],
   "source": [
    "#function cek_angka\n",
    "def  cek_angka(a,b,c):\n",
    "    if a!=b and b!= c and a!=c:\n",
    "        if (a+b==c) or (a+c==b) or (b+c==a):\n",
    "            return True\n",
    "        else:\n",
    "            return False\n",
    "    else:\n",
    "        return False\n",
    "\n",
    "number_1=int(input(\"Masukkan bilangan pertama : \"))\n",
    "number_2=int(input(\"Masukkan bilangan kedua : \"))\n",
    "number_3=int(input(\"Masukkan bilangan ketiga : \"))\n",
    "\n",
    "print(number_1,number_2, number_3,\":\",cek_angka(number_1,number_2,number_3))\n"
   ]
  },
  {
   "cell_type": "markdown",
   "metadata": {},
   "source": [
    "Soal 2"
   ]
  },
  {
   "cell_type": "code",
   "execution_count": 9,
   "metadata": {},
   "outputs": [
    {
     "name": "stdout",
     "output_type": "stream",
     "text": [
      "True\n",
      "True\n",
      "False\n",
      "True\n",
      "False\n"
     ]
    }
   ],
   "source": [
    "#function cek_digit_belakang()\n",
    "def cek_digit_belakang(x,y,z):\n",
    "    a= x%10\n",
    "    b= y%10\n",
    "    c=z%10\n",
    "    if a==b==c:\n",
    "        return True\n",
    "    else:\n",
    "        if a==b or b==c or a==c:\n",
    "            return True\n",
    "        else:\n",
    "            return False\n",
    "\n",
    "\n",
    "#Test-case\n",
    "print(cek_digit_belakang(30,20,18))\n",
    "print(cek_digit_belakang(145,5,100))\n",
    "print(cek_digit_belakang(71,187, 18))\n",
    "print(cek_digit_belakang(1024, 14,94))\n",
    "print(cek_digit_belakang(53, 8900, 658))\n",
    "\n",
    "    "
   ]
  },
  {
   "cell_type": "markdown",
   "metadata": {},
   "source": [
    "Soal 3"
   ]
  },
  {
   "cell_type": "code",
   "execution_count": 12,
   "metadata": {},
   "outputs": [
    {
     "name": "stdout",
     "output_type": "stream",
     "text": [
      "212\n",
      "64\n",
      "32\n"
     ]
    }
   ],
   "source": [
    "#lambda function\n",
    "suhu_reamur = lambda a=0 : 0.8*a\n",
    "suhu_fahrenheit= lambda a=0 : (9/5)*a +32\n",
    "\n",
    "#testcase\n",
    "print(\"Input C = 100. Output F = \",int(suhu_fahrenheit(100)))\n",
    "print(\"Input C = 80. Output F = \",int(suhu_reamur(80)))\n",
    "print(\"Input C = 0. Output F = \",int(suhu_fahrenheit()))"
   ]
  }
 ],
 "metadata": {
  "kernelspec": {
   "display_name": "Python 3",
   "language": "python",
   "name": "python3"
  },
  "language_info": {
   "codemirror_mode": {
    "name": "ipython",
    "version": 3
   },
   "file_extension": ".py",
   "mimetype": "text/x-python",
   "name": "python",
   "nbconvert_exporter": "python",
   "pygments_lexer": "ipython3",
   "version": "3.11.1"
  }
 },
 "nbformat": 4,
 "nbformat_minor": 2
}
